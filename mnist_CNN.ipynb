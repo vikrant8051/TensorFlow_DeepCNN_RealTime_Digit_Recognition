{
  "nbformat": 4,
  "nbformat_minor": 0,
  "metadata": {
    "colab": {
      "name": "mnist_CNN.ipynb",
      "provenance": [],
      "collapsed_sections": []
    },
    "kernelspec": {
      "name": "python3",
      "display_name": "Python 3"
    },
    "accelerator": "GPU"
  },
  "cells": [
    {
      "cell_type": "code",
      "metadata": {
        "id": "_YKEOVPy_aIJ",
        "colab_type": "code",
        "colab": {}
      },
      "source": [
        "import matplotlib.pyplot as plt\n",
        "\n",
        "from tensorflow.keras.models import Sequential, save_model\n",
        "from tensorflow.keras.layers import Flatten, Dense, Dropout, Conv2D, BatchNormalization,  MaxPool2D\n",
        "from tensorflow.keras.datasets import mnist\n",
        "\n",
        "from tensorflow.keras.utils import plot_model\n",
        "\n",
        "from tensorflow.keras.preprocessing.image import ImageDataGenerator\n",
        "from tensorflow.keras.callbacks import ReduceLROnPlateau"
      ],
      "execution_count": 0,
      "outputs": []
    },
    {
      "cell_type": "code",
      "metadata": {
        "id": "Fmlr8v3B1Bzp",
        "colab_type": "code",
        "outputId": "421bff11-7459-48f1-f03c-680ae15ef661",
        "colab": {
          "base_uri": "https://localhost:8080/",
          "height": 51
        }
      },
      "source": [
        "(x_train, y_train), (x_test, y_test) = mnist.load_data()"
      ],
      "execution_count": 2,
      "outputs": [
        {
          "output_type": "stream",
          "text": [
            "Downloading data from https://storage.googleapis.com/tensorflow/tf-keras-datasets/mnist.npz\n",
            "11493376/11490434 [==============================] - 0s 0us/step\n"
          ],
          "name": "stdout"
        }
      ]
    },
    {
      "cell_type": "code",
      "metadata": {
        "id": "fgQWLdZj_kQG",
        "colab_type": "code",
        "colab": {}
      },
      "source": [
        "# Reshaping to format which CNN expects (batch, height, width, channels)\n",
        "xr_train = x_train.reshape(x_train.shape[0], x_train.shape[1], x_train.shape[2], 1)\n",
        "xr_test = x_test.reshape(x_test.shape[0], x_test.shape[1], x_test.shape[2], 1)\n",
        "\n",
        "# normalize inputs from 0-255 to 0-1\n",
        "xr_train, xr_test = xr_train / 255.0, xr_test / 255.0"
      ],
      "execution_count": 0,
      "outputs": []
    },
    {
      "cell_type": "code",
      "metadata": {
        "id": "FVdQFm_E_-RM",
        "colab_type": "code",
        "colab": {}
      },
      "source": [
        "model = Sequential()\n",
        "\n",
        "# Conv + Batch norm + Conv + MaxPool + Dropout\n",
        "model.add(Conv2D(filters = 32, kernel_size = (5,5), padding = 'same', activation = 'relu', input_shape = (28, 28, 1)))\n",
        "model.add(BatchNormalization())\n",
        "model.add(Conv2D(filters = 32, kernel_size = (5,5), padding = 'same', activation = 'relu'))\n",
        "model.add(MaxPool2D(pool_size = (2, 2)))  # Downscale\n",
        "model.add(Dropout(rate = 0.25))\n",
        "    \n",
        "# Conv + Batch norm + Conv + MaxPool + Dropout\n",
        "model.add(Conv2D(filters = 64, kernel_size = (3,3), padding = 'same', activation = 'relu'))\n",
        "model.add(BatchNormalization())\n",
        "model.add(Conv2D(filters = 64, kernel_size = (3,3), padding = 'same', activation = 'relu'))\n",
        "model.add(MaxPool2D(pool_size = (2, 2)))  # Downscale\n",
        "model.add(Dropout(rate = 0.25))\n",
        "\n",
        "# Flatten + Dense + D ropout + Dense (output)\n",
        "model.add(Flatten())\n",
        "model.add(Dense(256, activation = 'relu'))\n",
        "model.add(Dropout(rate = 0.5))\n",
        "model.add(Dense(10, activation = 'softmax'))\n",
        "\n",
        "model.compile(loss='sparse_categorical_crossentropy', optimizer='adam', metrics=['accuracy'])"
      ],
      "execution_count": 0,
      "outputs": []
    },
    {
      "cell_type": "code",
      "metadata": {
        "id": "Yb2iqDPUjriP",
        "colab_type": "code",
        "colab": {}
      },
      "source": [
        "epochs = 50\n",
        "datagen = ImageDataGenerator(\n",
        "    rotation_range=10,  # Randomly rotate image within range\n",
        "    zoom_range = 0.1,  # Randomly zoom in/out\n",
        "    width_shift_range=0.1,  # Shift (fraction of total)\n",
        "    height_shift_range=0.1,  # Shift (fraction of total)\n",
        ")\n",
        "datagen.fit(xr_train)"
      ],
      "execution_count": 0,
      "outputs": []
    },
    {
      "cell_type": "code",
      "metadata": {
        "id": "T4hl1naHjyk3",
        "colab_type": "code",
        "colab": {}
      },
      "source": [
        "reduce_lr = ReduceLROnPlateau(monitor = 'val_accuracy', factor = 0.2, patience = 5, min_lr = 1e-5, verbose = 1)"
      ],
      "execution_count": 0,
      "outputs": []
    },
    {
      "cell_type": "code",
      "metadata": {
        "id": "2ByS2FJgj2gl",
        "colab_type": "code",
        "outputId": "14e3da04-b8e6-4bd8-ad83-c282611ef0d9",
        "colab": {
          "base_uri": "https://localhost:8080/",
          "height": 85
        }
      },
      "source": [
        "history = model.fit_generator(datagen.flow(xr_train, y_train, batch_size = 64),\n",
        "                              epochs=epochs, steps_per_epoch = xr_train.shape[0] // 64,\n",
        "                              validation_data = (xr_test, y_test),\n",
        "                              callbacks = [reduce_lr],\n",
        "                              verbose = '1')"
      ],
      "execution_count": 0,
      "outputs": [
        {
          "output_type": "stream",
          "text": [
            "WARNING:tensorflow:From <ipython-input-7-5cc9953d5920>:5: Model.fit_generator (from tensorflow.python.keras.engine.training) is deprecated and will be removed in a future version.\n",
            "Instructions for updating:\n",
            "Please use Model.fit, which supports generators.\n",
            "Epoch 1/50\n"
          ],
          "name": "stdout"
        }
      ]
    },
    {
      "cell_type": "code",
      "metadata": {
        "id": "u2P8tAjVm8rh",
        "colab_type": "code",
        "outputId": "0a62eb80-3cba-418a-d400-f4e9a7409ca7",
        "colab": {
          "base_uri": "https://localhost:8080/",
          "height": 51
        }
      },
      "source": [
        "model.evaluate(xr_test, y_test)"
      ],
      "execution_count": 0,
      "outputs": [
        {
          "output_type": "stream",
          "text": [
            "313/313 [==============================] - 1s 3ms/step - loss: 0.0124 - accuracy: 0.9965\n"
          ],
          "name": "stdout"
        },
        {
          "output_type": "execute_result",
          "data": {
            "text/plain": [
              "[0.012369989417493343, 0.9965000152587891]"
            ]
          },
          "metadata": {
            "tags": []
          },
          "execution_count": 12
        }
      ]
    },
    {
      "cell_type": "code",
      "metadata": {
        "id": "E9gTgnBLH7g7",
        "colab_type": "code",
        "colab": {}
      },
      "source": [
        "model.save(\"mnist_CNN.h5\")"
      ],
      "execution_count": 0,
      "outputs": []
    }
  ]
}